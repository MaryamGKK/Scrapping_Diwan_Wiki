{
 "cells": [
  {
   "cell_type": "code",
   "execution_count": 15,
   "metadata": {},
   "outputs": [],
   "source": [
    "# import the nessecary modules\n",
    "import csv\n",
    "import requests\n",
    "from bs4 import BeautifulSoup\n",
    "import pandas as pd"
   ]
  },
  {
   "cell_type": "code",
   "execution_count": 2,
   "metadata": {},
   "outputs": [],
   "source": [
    "response = requests.get('https://diwanegypt.com/product-category/books/english-books/')\n",
    "soup = BeautifulSoup(response.text, 'html.parser')\n"
   ]
  },
  {
   "cell_type": "code",
   "execution_count": 3,
   "metadata": {},
   "outputs": [
    {
     "data": {
      "text/plain": [
       "225"
      ]
     },
     "execution_count": 3,
     "metadata": {},
     "output_type": "execute_result"
    }
   ],
   "source": [
    "page_numbers = soup.find_all('a', attrs = {'class' : 'page-numbers'})\n",
    "last = int(page_numbers[-2].get_text())\n",
    "last"
   ]
  },
  {
   "cell_type": "code",
   "execution_count": 4,
   "metadata": {},
   "outputs": [],
   "source": [
    "names_total = []\n",
    "authors_total = []\n",
    "prices_total = [] \n",
    "for i in range(2, last+1):\n",
    "    for i in soup.find_all('h2', attrs = {'class':\"woocommerce-loop-product__title\"}):\n",
    "        name = i.get_text()\n",
    "        names_total.append(name)\n",
    "    for i in soup.find_all('span', attrs = {'class': 'author'}):\n",
    "        author = i.get_text()\n",
    "        authors_total.append(author)\n",
    "    for i in soup.find_all(\"bdi\"):\n",
    "        prices_total.append(float(''.join(i.get_text()[3:].split(','))))\n",
    "    response = requests.get('https://diwanegypt.com/product-category/books/english-books/'+'page/'+str(i)+'/')\n",
    "    soup = BeautifulSoup(response.text, 'html.parser')\n",
    "\n",
    "# append urls of all the english books to the urls list"
   ]
  },
  {
   "cell_type": "code",
   "execution_count": 5,
   "metadata": {},
   "outputs": [
    {
     "data": {
      "text/plain": [
       "2800"
      ]
     },
     "execution_count": 5,
     "metadata": {},
     "output_type": "execute_result"
    }
   ],
   "source": [
    "len(names_total)"
   ]
  },
  {
   "cell_type": "code",
   "execution_count": 6,
   "metadata": {},
   "outputs": [
    {
     "data": {
      "text/plain": [
       "2800"
      ]
     },
     "execution_count": 6,
     "metadata": {},
     "output_type": "execute_result"
    }
   ],
   "source": [
    "len(authors_total)"
   ]
  },
  {
   "cell_type": "code",
   "execution_count": 7,
   "metadata": {},
   "outputs": [
    {
     "data": {
      "text/plain": [
       "2800"
      ]
     },
     "execution_count": 7,
     "metadata": {},
     "output_type": "execute_result"
    }
   ],
   "source": [
    "len(prices_total)"
   ]
  },
  {
   "cell_type": "code",
   "execution_count": 8,
   "metadata": {},
   "outputs": [
    {
     "data": {
      "text/plain": [
       "158"
      ]
     },
     "execution_count": 8,
     "metadata": {},
     "output_type": "execute_result"
    }
   ],
   "source": [
    "response = requests.get('https://diwanegypt.com/product-category/books/arabic-books/')\n",
    "soup = BeautifulSoup(response.text, 'html.parser')\n",
    "page_numbers = soup.find_all('a', attrs = {'class' : 'page-numbers'})\n",
    "last = int(page_numbers[-2].get_text())\n",
    "last"
   ]
  },
  {
   "cell_type": "code",
   "execution_count": 9,
   "metadata": {},
   "outputs": [],
   "source": [
    "for i in range(2, last+1):\n",
    "    \n",
    "    for i in soup.find_all(\"ul\",attrs= \"products columns-5\"):\n",
    "        name_tag = i.find_all(\"h2\",attrs = \"woocommerce-loop-product__title\")\n",
    "        author_tag = i.find_all(\"span\",attrs={'class':\"author\"})\n",
    "        for names in name_tag :\n",
    "            names_total.append(names.get_text())\n",
    "        for author in author_tag:\n",
    "            authors_total.append(author.get_text())\n",
    "        for i in soup.find_all('bdi'):\n",
    "            prices_total.append(float(''.join(i.get_text()[3:].split(','))))\n",
    "    response = requests.get('https://diwanegypt.com/product-category/books/arabic-books'+'/page/'+str(i)+'/')\n",
    "    soup = BeautifulSoup(response.text, 'html.parser')"
   ]
  },
  {
   "cell_type": "code",
   "execution_count": 10,
   "metadata": {},
   "outputs": [
    {
     "data": {
      "text/plain": [
       "4775"
      ]
     },
     "execution_count": 10,
     "metadata": {},
     "output_type": "execute_result"
    }
   ],
   "source": [
    "len(names_total)"
   ]
  },
  {
   "cell_type": "code",
   "execution_count": 11,
   "metadata": {},
   "outputs": [
    {
     "data": {
      "text/plain": [
       "4775"
      ]
     },
     "execution_count": 11,
     "metadata": {},
     "output_type": "execute_result"
    }
   ],
   "source": [
    "len(authors_total)"
   ]
  },
  {
   "cell_type": "code",
   "execution_count": 12,
   "metadata": {},
   "outputs": [
    {
     "data": {
      "text/plain": [
       "4776"
      ]
     },
     "execution_count": 12,
     "metadata": {},
     "output_type": "execute_result"
    }
   ],
   "source": [
    "len(prices_total)"
   ]
  },
  {
   "cell_type": "code",
   "execution_count": 14,
   "metadata": {},
   "outputs": [],
   "source": [
    "with open('DiwanBooks.csv', encoding = 'utf-8', mode = 'w', newline = '') as f:\n",
    "    writer = csv.DictWriter(f, fieldnames = ['BName', 'Author', 'Price'])\n",
    "    writer.writeheader()\n",
    "    for i in range(0,len(names_total)):\n",
    "        writer.writerow({'BName':names_total[i], 'Author':authors_total[i], 'Price': prices_total[i]})"
   ]
  },
  {
   "cell_type": "code",
   "execution_count": 17,
   "metadata": {},
   "outputs": [],
   "source": [
    "df = pd.read_csv('DiwanBooks.csv')"
   ]
  },
  {
   "cell_type": "code",
   "execution_count": 18,
   "metadata": {},
   "outputs": [
    {
     "data": {
      "text/html": [
       "<div>\n",
       "<style scoped>\n",
       "    .dataframe tbody tr th:only-of-type {\n",
       "        vertical-align: middle;\n",
       "    }\n",
       "\n",
       "    .dataframe tbody tr th {\n",
       "        vertical-align: top;\n",
       "    }\n",
       "\n",
       "    .dataframe thead th {\n",
       "        text-align: right;\n",
       "    }\n",
       "</style>\n",
       "<table border=\"1\" class=\"dataframe\">\n",
       "  <thead>\n",
       "    <tr style=\"text-align: right;\">\n",
       "      <th></th>\n",
       "      <th>BName</th>\n",
       "      <th>Author</th>\n",
       "      <th>Price</th>\n",
       "    </tr>\n",
       "  </thead>\n",
       "  <tbody>\n",
       "    <tr>\n",
       "      <th>0</th>\n",
       "      <td>Creative Habit</td>\n",
       "      <td>Twyla Tharp &amp; Mark Reiter</td>\n",
       "      <td>120.0</td>\n",
       "    </tr>\n",
       "    <tr>\n",
       "      <th>1</th>\n",
       "      <td>Ernst Ludwig Kirchner</td>\n",
       "      <td>Thorsten Sadowsky</td>\n",
       "      <td>285.0</td>\n",
       "    </tr>\n",
       "    <tr>\n",
       "      <th>2</th>\n",
       "      <td>How to Read a Dress</td>\n",
       "      <td>Lydia Edwards</td>\n",
       "      <td>690.0</td>\n",
       "    </tr>\n",
       "    <tr>\n",
       "      <th>3</th>\n",
       "      <td>Principles for Dealing with</td>\n",
       "      <td>Ray Dalio</td>\n",
       "      <td>725.0</td>\n",
       "    </tr>\n",
       "    <tr>\n",
       "      <th>4</th>\n",
       "      <td>Self Love Oracle</td>\n",
       "      <td>Akal Pritam</td>\n",
       "      <td>480.0</td>\n",
       "    </tr>\n",
       "  </tbody>\n",
       "</table>\n",
       "</div>"
      ],
      "text/plain": [
       "                         BName                     Author  Price\n",
       "0               Creative Habit  Twyla Tharp & Mark Reiter  120.0\n",
       "1        Ernst Ludwig Kirchner          Thorsten Sadowsky  285.0\n",
       "2          How to Read a Dress              Lydia Edwards  690.0\n",
       "3  Principles for Dealing with                  Ray Dalio  725.0\n",
       "4             Self Love Oracle                Akal Pritam  480.0"
      ]
     },
     "execution_count": 18,
     "metadata": {},
     "output_type": "execute_result"
    }
   ],
   "source": [
    "df.head()"
   ]
  },
  {
   "cell_type": "code",
   "execution_count": 19,
   "metadata": {},
   "outputs": [
    {
     "data": {
      "text/html": [
       "<div>\n",
       "<style scoped>\n",
       "    .dataframe tbody tr th:only-of-type {\n",
       "        vertical-align: middle;\n",
       "    }\n",
       "\n",
       "    .dataframe tbody tr th {\n",
       "        vertical-align: top;\n",
       "    }\n",
       "\n",
       "    .dataframe thead th {\n",
       "        text-align: right;\n",
       "    }\n",
       "</style>\n",
       "<table border=\"1\" class=\"dataframe\">\n",
       "  <thead>\n",
       "    <tr style=\"text-align: right;\">\n",
       "      <th></th>\n",
       "      <th>BName</th>\n",
       "      <th>Author</th>\n",
       "      <th>Price</th>\n",
       "    </tr>\n",
       "  </thead>\n",
       "  <tbody>\n",
       "    <tr>\n",
       "      <th>4770</th>\n",
       "      <td>هارى بوتر وسجين ازكابان</td>\n",
       "      <td>ج. ك. رولينج</td>\n",
       "      <td>80.0</td>\n",
       "    </tr>\n",
       "    <tr>\n",
       "      <th>4771</th>\n",
       "      <td>أشياء رائعة</td>\n",
       "      <td>ريم بسيونى</td>\n",
       "      <td>55.0</td>\n",
       "    </tr>\n",
       "    <tr>\n",
       "      <th>4772</th>\n",
       "      <td>خالد بن الوليد سيف الله المسلول</td>\n",
       "      <td>منصور عبد الحكيم</td>\n",
       "      <td>70.0</td>\n",
       "    </tr>\n",
       "    <tr>\n",
       "      <th>4773</th>\n",
       "      <td>أحجار على رقعة الشطرنج</td>\n",
       "      <td>وليام جاى كار</td>\n",
       "      <td>100.0</td>\n",
       "    </tr>\n",
       "    <tr>\n",
       "      <th>4774</th>\n",
       "      <td>هارى بوتر وحجرة الأسرار</td>\n",
       "      <td>ج. ك. رولينج</td>\n",
       "      <td>75.0</td>\n",
       "    </tr>\n",
       "  </tbody>\n",
       "</table>\n",
       "</div>"
      ],
      "text/plain": [
       "                                BName            Author  Price\n",
       "4770          هارى بوتر وسجين ازكابان      ج. ك. رولينج   80.0\n",
       "4771                      أشياء رائعة        ريم بسيونى   55.0\n",
       "4772  خالد بن الوليد سيف الله المسلول  منصور عبد الحكيم   70.0\n",
       "4773           أحجار على رقعة الشطرنج     وليام جاى كار  100.0\n",
       "4774          هارى بوتر وحجرة الأسرار      ج. ك. رولينج   75.0"
      ]
     },
     "execution_count": 19,
     "metadata": {},
     "output_type": "execute_result"
    }
   ],
   "source": [
    "df.tail()"
   ]
  }
 ],
 "metadata": {
  "kernelspec": {
   "display_name": "Python 3",
   "language": "python",
   "name": "python3"
  },
  "language_info": {
   "codemirror_mode": {
    "name": "ipython",
    "version": 3
   },
   "file_extension": ".py",
   "mimetype": "text/x-python",
   "name": "python",
   "nbconvert_exporter": "python",
   "pygments_lexer": "ipython3",
   "version": "3.8.5"
  }
 },
 "nbformat": 4,
 "nbformat_minor": 4
}
